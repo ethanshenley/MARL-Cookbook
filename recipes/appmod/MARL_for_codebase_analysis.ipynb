{
 "cells": [
  {
   "cell_type": "markdown",
   "metadata": {},
   "source": [
    "# PoC: MARL for Codebase Analysis in App Modernization\n",
    "\n",
    "## Introduction\n",
    "\n",
    "This notebook demonstrates a proof-of-concept for using Multi-Agent Reinforcement Learning (MARL) in codebase analysis for app modernization. We'll simulate a scenario where multiple agents analyze different parts of a codebase to identify modernization opportunities.\n",
    "\n",
    "## Setup"
   ]
  },
  {
   "cell_type": "code",
   "execution_count": 5,
   "metadata": {},
   "outputs": [],
   "source": [
    "import torch\n",
    "import torch.nn as nn\n",
    "import torch.optim as optim\n",
    "import torch.nn.functional as F\n",
    "import numpy as np\n",
    "import matplotlib.pyplot as plt\n",
    "\n",
    "torch.manual_seed(42)\n",
    "np.random.seed(42)\n",
    "\n",
    "class CodeAnalysisAgent(nn.Module):\n",
    "    def __init__(self, input_dim, hidden_dim, output_dim):\n",
    "        super(CodeAnalysisAgent, self).__init__()\n",
    "        self.fc1 = nn.Linear(input_dim, hidden_dim)\n",
    "        self.fc2 = nn.Linear(hidden_dim, hidden_dim)\n",
    "        self.fc3 = nn.Linear(hidden_dim, output_dim)\n",
    "        \n",
    "    def forward(self, x):\n",
    "        x = F.relu(self.fc1(x))\n",
    "        x = F.relu(self.fc2(x))\n",
    "        return self.fc3(x)  # Output logits for BCEWithLogitsLoss\n",
    "\n",
    "class CodebaseEnvironment:\n",
    "    def __init__(self, num_modules, features_per_module, num_agents):\n",
    "        self.num_modules = num_modules\n",
    "        self.features_per_module = features_per_module\n",
    "        self.num_agents = num_agents\n",
    "        self.reset()\n",
    "        \n",
    "    def reset(self):\n",
    "        self.codebase = torch.rand(self.num_modules, self.features_per_module)\n",
    "        self.modernization_opportunities = (torch.rand(self.num_modules) > 0.7).float()\n",
    "        return self.codebase.clone()\n",
    "        \n",
    "    def step(self, actions):\n",
    "        rewards = torch.zeros(self.num_agents)\n",
    "        for i, action in enumerate(actions):\n",
    "            module_idx = i % self.num_modules\n",
    "            prediction = (torch.sigmoid(action) > 0.5).float()\n",
    "            if prediction == self.modernization_opportunities[module_idx]:\n",
    "                rewards[i] = 1\n",
    "            else:\n",
    "                rewards[i] = -1\n",
    "            \n",
    "        done = True  # In this simplified version, we're done after one step\n",
    "        return self.codebase.clone(), rewards, done\n",
    "\n",
    "# Hyperparameters\n",
    "num_modules = 10\n",
    "features_per_module = 5\n",
    "num_agents = 5\n",
    "hidden_dim = 64\n",
    "\n",
    "env = CodebaseEnvironment(num_modules, features_per_module, num_agents)\n",
    "agents = [CodeAnalysisAgent(features_per_module, hidden_dim, 1) for _ in range(num_agents)]"
   ]
  },
  {
   "cell_type": "markdown",
   "metadata": {},
   "source": [
    "## Training Loop"
   ]
  },
  {
   "cell_type": "code",
   "execution_count": null,
   "metadata": {},
   "outputs": [],
   "source": [
    "def train_agents(num_episodes):\n",
    "    optimizers = [optim.Adam(agent.parameters(), lr=0.001) for agent in agents]\n",
    "    episode_rewards = []\n",
    "    loss_fn = nn.BCEWithLogitsLoss()\n",
    "    \n",
    "    for episode in range(num_episodes):\n",
    "        state = env.reset()\n",
    "        \n",
    "        actions = []\n",
    "        targets = []\n",
    "        for i, agent in enumerate(agents):\n",
    "            module_idx = i % env.num_modules\n",
    "            module_features = state[module_idx].unsqueeze(0)  # Shape: [1, features_per_module]\n",
    "            action = agent(module_features)\n",
    "            actions.append(action)\n",
    "            target = env.modernization_opportunities[module_idx].unsqueeze(0)\n",
    "            targets.append(target)\n",
    "        \n",
    "        # Take a step in the environment\n",
    "        next_state, rewards, done = env.step(actions)\n",
    "        episode_rewards.append(rewards.sum().item())\n",
    "        \n",
    "        # Update agents\n",
    "        for i, agent in enumerate(agents):\n",
    "            optimizer = optimizers[i]\n",
    "            optimizer.zero_grad()\n",
    "            \n",
    "            loss = loss_fn(actions[i], targets[i])\n",
    "            loss.backward()\n",
    "            optimizer.step()\n",
    "        \n",
    "        if episode % 100 == 0:\n",
    "            avg_reward = sum(episode_rewards[-100:]) / 100\n",
    "            print(f\"Episode {episode}, Average Reward: {avg_reward}\")\n",
    "    \n",
    "    return episode_rewards\n",
    "\n",
    "# Train the agents\n",
    "num_episodes = 5000\n",
    "rewards = train_agents(num_episodes)\n",
    "\n",
    "# Plot the learning curve\n",
    "plt.plot(rewards)\n",
    "plt.title(\"Learning Curve\")\n",
    "plt.xlabel(\"Episode\")\n",
    "plt.ylabel(\"Total Reward\")\n",
    "plt.show()"
   ]
  },
  {
   "cell_type": "markdown",
   "metadata": {},
   "source": [
    "## Evaluation"
   ]
  },
  {
   "cell_type": "code",
   "execution_count": null,
   "metadata": {},
   "outputs": [],
   "source": [
    "def evaluate_agents():\n",
    "    state = env.reset()\n",
    "    actions = [agent(state[i % num_modules].unsqueeze(0)).squeeze() for i, agent in enumerate(agents)]\n",
    "    _, rewards, _ = env.step(actions)\n",
    "    \n",
    "    print(\"Modernization Opportunities:\", env.modernization_opportunities)\n",
    "    print(\"Agent Decisions:\", [a > 0.5 for a in actions])\n",
    "    print(\"Rewards:\", rewards)\n",
    "\n",
    "evaluate_agents()"
   ]
  },
  {
   "cell_type": "markdown",
   "metadata": {},
   "source": [
    "## Conclusion\n",
    "\n",
    "This PoC demonstrates how MARL can be applied to codebase analysis for app modernization. The agents learn to identify modernization opportunities in different modules of the codebase. In a real-world scenario, this could be extended to more complex code analysis tasks and larger codebases."
   ]
  }
 ],
 "metadata": {
  "kernelspec": {
   "display_name": "test",
   "language": "python",
   "name": "python3"
  },
  "language_info": {
   "codemirror_mode": {
    "name": "ipython",
    "version": 3
   },
   "file_extension": ".py",
   "mimetype": "text/x-python",
   "name": "python",
   "nbconvert_exporter": "python",
   "pygments_lexer": "ipython3",
   "version": "3.10.14"
  }
 },
 "nbformat": 4,
 "nbformat_minor": 2
}
