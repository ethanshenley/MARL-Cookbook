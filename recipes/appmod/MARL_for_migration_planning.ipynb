{
 "cells": [
  {
   "cell_type": "markdown",
   "metadata": {},
   "source": [
    "# PoC: MARL for Infrastructure Migration Planning\n",
    "\n",
    "## Introduction\n",
    "\n",
    "This notebook presents a proof-of-concept for using MARL in planning infrastructure migrations for app modernization. We'll simulate a scenario where multiple agents collaborate to plan the migration of different components of an application to a new infrastructure.\n",
    "\n",
    "## Setup"
   ]
  },
  {
   "cell_type": "code",
   "execution_count": 1,
   "metadata": {},
   "outputs": [],
   "source": [
    "import torch\n",
    "import torch.nn as nn\n",
    "import torch.optim as optim\n",
    "import torch.nn.functional as F\n",
    "import numpy as np\n",
    "import matplotlib.pyplot as plt\n",
    "\n",
    "torch.manual_seed(42)\n",
    "np.random.seed(42)\n",
    "\n",
    "class MigrationAgent(nn.Module):\n",
    "    def __init__(self, input_dim, hidden_dim, output_dim):\n",
    "        super(MigrationAgent, self).__init__()\n",
    "        self.fc1 = nn.Linear(input_dim, hidden_dim)\n",
    "        self.fc2 = nn.Linear(hidden_dim, hidden_dim)\n",
    "        self.fc3 = nn.Linear(hidden_dim, output_dim)\n",
    "    \n",
    "    def forward(self, x):\n",
    "        x = F.relu(self.fc1(x))\n",
    "        x = F.relu(self.fc2(x))\n",
    "        return F.softmax(self.fc3(x), dim=-1)\n",
    "\n",
    "class InfrastructureMigrationEnvironment:\n",
    "    def __init__(self, num_components, num_resources, num_agents):\n",
    "        self.num_components = num_components\n",
    "        self.num_resources = num_resources\n",
    "        self.num_agents = num_agents\n",
    "        self.reset()\n",
    "    \n",
    "    def reset(self):\n",
    "        self.components = torch.rand(self.num_components, self.num_resources)\n",
    "        self.optimal_allocation = torch.randint(0, self.num_resources, (self.num_components,))\n",
    "        return self.components.clone()\n",
    "    \n",
    "    def step(self, actions):\n",
    "        rewards = torch.zeros(self.num_agents)\n",
    "        for i, action in enumerate(actions):\n",
    "            component_idx = i % self.num_components\n",
    "            if torch.argmax(action) == self.optimal_allocation[component_idx]:\n",
    "                rewards[i] = 1\n",
    "            else:\n",
    "                rewards[i] = -1\n",
    "        \n",
    "        done = True  # In this simplified version, we're done after one step\n",
    "        return self.components.clone(), rewards, done\n",
    "\n",
    "# Hyperparameters\n",
    "num_components = 10\n",
    "num_resources = 4\n",
    "num_agents = 5\n",
    "hidden_dim = 64\n",
    "\n",
    "env = InfrastructureMigrationEnvironment(num_components, num_resources, num_agents)\n",
    "agents = [MigrationAgent(num_resources, hidden_dim, num_resources) for _ in range(num_agents)]"
   ]
  },
  {
   "cell_type": "markdown",
   "metadata": {},
   "source": [
    "## Training Loop"
   ]
  },
  {
   "cell_type": "code",
   "execution_count": null,
   "metadata": {},
   "outputs": [],
   "source": [
    "def train_agents(num_episodes):\n",
    "    optimizers = [optim.Adam(agent.parameters(), lr=0.001) for agent in agents]\n",
    "    episode_rewards = []\n",
    "\n",
    "    for episode in range(num_episodes):\n",
    "        state = env.reset()\n",
    "        actions = [agent(state[i % num_components]) for i, agent in enumerate(agents)]\n",
    "        _, rewards, _ = env.step(actions)\n",
    "        \n",
    "        episode_reward = rewards.sum().item()\n",
    "        episode_rewards.append(episode_reward)\n",
    "\n",
    "        for i, agent in enumerate(agents):\n",
    "            loss = -rewards[i]\n",
    "            optimizers[i].zero_grad()\n",
    "            loss.backward()\n",
    "            optimizers[i].step()\n",
    "\n",
    "        if episode % 100 == 0:\n",
    "            print(f\"Episode {episode}, Avg Reward: {np.mean(episode_rewards[-100:]):.2f}\")\n",
    "\n",
    "    return episode_rewards\n",
    "\n",
    "num_episodes = 5000\n",
    "rewards = train_agents(num_episodes)\n",
    "\n",
    "plt.plot(rewards)\n",
    "plt.title(\"Learning Curve\")\n",
    "plt.xlabel(\"Episode\")\n",
    "plt.ylabel(\"Total Reward\")\n",
    "plt.show()"
   ]
  },
  {
   "cell_type": "markdown",
   "metadata": {},
   "source": [
    "## Evaluation"
   ]
  },
  {
   "cell_type": "code",
   "execution_count": null,
   "metadata": {},
   "outputs": [],
   "source": [
    "def evaluate_agents():\n",
    "    state = env.reset()\n",
    "    actions = [agent(state[i % num_components]) for i, agent in enumerate(agents)]\n",
    "    _, rewards, _ = env.step(actions)\n",
    "    \n",
    "    print(\"Optimal Allocation:\", env.optimal_allocation)\n",
    "    print(\"Agent Decisions:\", [torch.argmax(a).item() for a in actions])\n",
    "    print(\"Rewards:\", rewards)\n",
    "\n",
    "evaluate_agents()"
   ]
  },
  {
   "cell_type": "markdown",
   "metadata": {},
   "source": [
    "## Conclusion\n",
    "\n",
    "This PoC demonstrates how MARL can be applied to infrastructure migration planning for app modernization. The agents learn to allocate application components to appropriate resources in the new infrastructure. In a real-world scenario, this could be extended to handle more complex infrastructure setups and dependencies between components."
   ]
  }
 ],
 "metadata": {
  "kernelspec": {
   "display_name": "test",
   "language": "python",
   "name": "python3"
  },
  "language_info": {
   "codemirror_mode": {
    "name": "ipython",
    "version": 3
   },
   "file_extension": ".py",
   "mimetype": "text/x-python",
   "name": "python",
   "nbconvert_exporter": "python",
   "pygments_lexer": "ipython3",
   "version": "3.10.14"
  }
 },
 "nbformat": 4,
 "nbformat_minor": 2
}
